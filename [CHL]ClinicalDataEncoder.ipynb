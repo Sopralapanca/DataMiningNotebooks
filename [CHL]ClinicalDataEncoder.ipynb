{
  "nbformat": 4,
  "nbformat_minor": 0,
  "metadata": {
    "colab": {
      "provenance": [],
      "include_colab_link": true
    },
    "kernelspec": {
      "name": "python3",
      "display_name": "Python 3"
    },
    "language_info": {
      "name": "python"
    }
  },
  "cells": [
    {
      "cell_type": "markdown",
      "metadata": {
        "id": "view-in-github",
        "colab_type": "text"
      },
      "source": [
        "<a href=\"https://colab.research.google.com/github/Sopralapanca/DataMiningNotebooks/blob/master/%5BCHL%5DClinicalDataEncoder.ipynb\" target=\"_parent\"><img src=\"https://colab.research.google.com/assets/colab-badge.svg\" alt=\"Open In Colab\"/></a>"
      ]
    },
    {
      "cell_type": "code",
      "execution_count": null,
      "metadata": {
        "id": "x4NajQGR4dMY"
      },
      "outputs": [],
      "source": [
        "%%capture\n",
        "\n",
        "import pandas as pd\n",
        "import numpy as np\n",
        "\n",
        "# clone the repository in order to download the dataset\n",
        "!git clone https://github.com/Sopralapanca/ComputationalHealthLab.git\n",
        "\n",
        "data_path = \"/content/ComputationalHealthLab/datasets/TiroideCardio_dataset.csv\""
      ]
    },
    {
      "cell_type": "code",
      "source": [
        "df = pd.read_csv(data_path)\n",
        "df.columns"
      ],
      "metadata": {
        "colab": {
          "base_uri": "https://localhost:8080/"
        },
        "id": "HzE9TAdf-Yfe",
        "outputId": "b10f8656-1a0f-4730-c359-7c75ceb7ddbf"
      },
      "execution_count": null,
      "outputs": [
        {
          "output_type": "execute_result",
          "data": {
            "text/plain": [
              "Index(['Data prelievo (1)', 'N. patients', 'Age (1)', 'Gender (Male = 1)',\n",
              "       'Angina', 'Previous CABG', 'Previous PCI',\n",
              "       'Previous \\nMyocardial Infarction', 'Acute \\nMyocardial Infarction',\n",
              "       'Angiography', 'Vessels', 'CAD', 'Smoke\\nHistory of smoke',\n",
              "       'Diabetes\\nHistory of diabetes',\n",
              "       'Hypertension\\nHistory of hypertension',\n",
              "       'Dyslipidemia\\nHystory of dyslipidemia', 'Family history of CAD',\n",
              "       'Obesity\\nHistory of obesity',\n",
              "       'Documented resting \\nor exertional ischemia',\n",
              "       'Post-ischemic Dilated\\nCardiomyopathy',\n",
              "       'Primary Dilated\\nCardiomyopathy', 'Atrial Fibrillation',\n",
              "       'Paroxysmal atrial fibrillation', 'B-Blockers', 'Amiodarone',\n",
              "       'Calcium channel blockers', 'Diuretics', 'Antiplatelet', 'Nitrates',\n",
              "       'ACE-inhibitors', 'Ipolipemizzanti', 'Antidiabetici', 'Total mortality',\n",
              "       'Non CVD Death', 'CVD Death', 'Fatal MI or Sudden death', 'UnKnown',\n",
              "       'Accident', 'Suicide', 'Cabg', 'Non fatal AMI', 'Pci',\n",
              "       'Total cholesterol', 'HDL', 'LDL', 'Triglycerides', 'Glycemia', 'TSH',\n",
              "       'fT3', 'fT4', 'Euthyroid', 'Subclinical primary hypothyroidism (SCH)',\n",
              "       'Subclinical primary hyperthyroidism\\n(SCT)', 'Low T3', 'Ipotiroidismo',\n",
              "       'Ipertiroidismo', 'Controllo', 'Patologia TIROIDE ', 'Normal',\n",
              "       'SindromeX', 'AMI', 'PMI', 'Aritmie', 'MIN', 'MIO', 'Miocardite',\n",
              "       'Pericardite', 'Endocardite', 'Valvulopatie', 'MalattiaVasoAorta',\n",
              "       'Ipertensione', 'CardiopatiaCongenita', 'EmboliaPolmonare', 'EPA', 'HR',\n",
              "       'Weight', 'Height', 'BMI', 'Diastolic blood pressure',\n",
              "       'Systolic blood pressure', 'WmsiBas', 'DimSettoIV', 'DimParPost', 'fe',\n",
              "       'vsx', 'Follow Up Data', 'Data of death', 'Cause of death',\n",
              "       'Cardiac cause of death', 'Collected by', 'CABG ',\n",
              "       'Non Fatal AMI (Follow-Up)', 'PCI', 'Ictus'],\n",
              "      dtype='object')"
            ]
          },
          "metadata": {},
          "execution_count": 4
        }
      ]
    },
    {
      "cell_type": "markdown",
      "source": [
        "# Data Understanding & Data Preparation"
      ],
      "metadata": {
        "id": "Z1FdtzkbAZJg"
      }
    },
    {
      "cell_type": "code",
      "source": [
        "df[\"Cardiac cause of death\"].value_counts()"
      ],
      "metadata": {
        "colab": {
          "base_uri": "https://localhost:8080/"
        },
        "id": "PeqRfw_3Aeb-",
        "outputId": "ff9969af-3e95-4b79-a317-52508c6a3f68"
      },
      "execution_count": null,
      "outputs": [
        {
          "output_type": "execute_result",
          "data": {
            "text/plain": [
              "0.0    5297\n",
              "1.0     512\n",
              "Name: Cardiac cause of death, dtype: int64"
            ]
          },
          "metadata": {},
          "execution_count": 5
        }
      ]
    },
    {
      "cell_type": "code",
      "source": [
        "df['Data prelievo (1)']= pd.to_datetime(df['Data prelievo (1)'], format='%d/%m/%Y')\n",
        "df['Data of death']= pd.to_datetime(df['Data of death'], format='%d/%m/%Y')"
      ],
      "metadata": {
        "id": "a87Ww6iTGMxl"
      },
      "execution_count": null,
      "outputs": []
    },
    {
      "cell_type": "code",
      "source": [
        "\n",
        "df['Data prelievo (1)']-df['Data of death']"
      ],
      "metadata": {
        "colab": {
          "base_uri": "https://localhost:8080/",
          "height": 130
        },
        "id": "qibSmOJWF2wM",
        "outputId": "f60d053a-4899-4e5a-a74a-c90b110fcf29"
      },
      "execution_count": 6,
      "outputs": [
        {
          "output_type": "error",
          "ename": "SyntaxError",
          "evalue": "ignored",
          "traceback": [
            "\u001b[0;36m  File \u001b[0;32m\"<ipython-input-6-d325dfd1a9a9>\"\u001b[0;36m, line \u001b[0;32m1\u001b[0m\n\u001b[0;31m    df_test['Difference'] / np.timedelta64(1, 'D')df['Data prelievo (1)']-df['Data of death']\u001b[0m\n\u001b[0m                                                  ^\u001b[0m\n\u001b[0;31mSyntaxError\u001b[0m\u001b[0;31m:\u001b[0m invalid syntax\n"
          ]
        }
      ]
    },
    {
      "cell_type": "markdown",
      "source": [
        "# Encoder building"
      ],
      "metadata": {
        "id": "c9fF-1PIAc3s"
      }
    },
    {
      "cell_type": "code",
      "source": [
        "# todo"
      ],
      "metadata": {
        "id": "dSo_OP1LAm-W"
      },
      "execution_count": null,
      "outputs": []
    },
    {
      "cell_type": "markdown",
      "source": [
        "# Classical model"
      ],
      "metadata": {
        "id": "hOdQP242Ao8M"
      }
    },
    {
      "cell_type": "code",
      "source": [
        "# todo"
      ],
      "metadata": {
        "id": "tkWBEam1AqpY"
      },
      "execution_count": null,
      "outputs": []
    },
    {
      "cell_type": "markdown",
      "source": [
        "# Comparison"
      ],
      "metadata": {
        "id": "rCT4jbLiAswe"
      }
    }
  ]
}