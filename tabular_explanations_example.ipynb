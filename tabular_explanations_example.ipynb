{
 "cells": [
  {
   "cell_type": "markdown",
   "id": "ranking-concert",
   "metadata": {},
   "source": [
    "## Tabular data: post-hoc explanations\n",
    "### Author: Francesca Naretto"
   ]
  },
  {
   "cell_type": "code",
   "execution_count": 10,
   "id": "material-skiing",
   "metadata": {},
   "outputs": [
    {
     "ename": "ModuleNotFoundError",
     "evalue": "No module named 'externals.LOREM'",
     "output_type": "error",
     "traceback": [
      "\u001b[0;31m---------------------------------------------------------------------------\u001b[0m",
      "\u001b[0;31mModuleNotFoundError\u001b[0m                       Traceback (most recent call last)",
      "\u001b[0;32m/var/folders/dd/5mww9gcn1h77hq7ms2t6fb3r0000gn/T/ipykernel_1099/459720903.py\u001b[0m in \u001b[0;36m<module>\u001b[0;34m\u001b[0m\n\u001b[1;32m      7\u001b[0m \u001b[0;32mfrom\u001b[0m \u001b[0msklearn\u001b[0m\u001b[0;34m.\u001b[0m\u001b[0mlinear_model\u001b[0m \u001b[0;32mimport\u001b[0m \u001b[0mLogisticRegression\u001b[0m\u001b[0;34m\u001b[0m\u001b[0;34m\u001b[0m\u001b[0m\n\u001b[1;32m      8\u001b[0m \u001b[0;34m\u001b[0m\u001b[0m\n\u001b[0;32m----> 9\u001b[0;31m \u001b[0;32mfrom\u001b[0m \u001b[0mxai\u001b[0m\u001b[0;34m.\u001b[0m\u001b[0mxailib\u001b[0m\u001b[0;34m.\u001b[0m\u001b[0mdata_loaders\u001b[0m\u001b[0;34m.\u001b[0m\u001b[0mdataframe_loader\u001b[0m \u001b[0;32mimport\u001b[0m \u001b[0mprepare_dataframe\u001b[0m\u001b[0;34m\u001b[0m\u001b[0;34m\u001b[0m\u001b[0m\n\u001b[0m\u001b[1;32m     10\u001b[0m \u001b[0;34m\u001b[0m\u001b[0m\n\u001b[1;32m     11\u001b[0m \u001b[0;32mfrom\u001b[0m \u001b[0mxailib\u001b[0m\u001b[0;34m.\u001b[0m\u001b[0mexplainers\u001b[0m\u001b[0;34m.\u001b[0m\u001b[0mlime_explainer\u001b[0m \u001b[0;32mimport\u001b[0m \u001b[0mLimeXAITabularExplainer\u001b[0m\u001b[0;34m\u001b[0m\u001b[0;34m\u001b[0m\u001b[0m\n",
      "\u001b[0;32m~/PycharmProjects/Berlin/xai/xailib/data_loaders/dataframe_loader.py\u001b[0m in \u001b[0;36m<module>\u001b[0;34m\u001b[0m\n\u001b[0;32m----> 1\u001b[0;31m \u001b[0;32mfrom\u001b[0m \u001b[0mexternals\u001b[0m\u001b[0;34m.\u001b[0m\u001b[0mLOREM\u001b[0m\u001b[0;34m.\u001b[0m\u001b[0mdatamanager\u001b[0m \u001b[0;32mimport\u001b[0m \u001b[0mprepare_dataset\u001b[0m\u001b[0;34m\u001b[0m\u001b[0;34m\u001b[0m\u001b[0m\n\u001b[0m\u001b[1;32m      2\u001b[0m \u001b[0;34m\u001b[0m\u001b[0m\n\u001b[1;32m      3\u001b[0m \u001b[0;32mdef\u001b[0m \u001b[0mprepare_dataframe\u001b[0m\u001b[0;34m(\u001b[0m\u001b[0mdf\u001b[0m\u001b[0;34m,\u001b[0m \u001b[0mclass_field\u001b[0m\u001b[0;34m)\u001b[0m\u001b[0;34m:\u001b[0m\u001b[0;34m\u001b[0m\u001b[0;34m\u001b[0m\u001b[0m\n\u001b[1;32m      4\u001b[0m     \u001b[0;32mreturn\u001b[0m \u001b[0mprepare_dataset\u001b[0m\u001b[0;34m(\u001b[0m\u001b[0mdf\u001b[0m\u001b[0;34m,\u001b[0m \u001b[0mclass_field\u001b[0m\u001b[0;34m)\u001b[0m\u001b[0;34m\u001b[0m\u001b[0;34m\u001b[0m\u001b[0m\n",
      "\u001b[0;31mModuleNotFoundError\u001b[0m: No module named 'externals.LOREM'"
     ]
    }
   ],
   "source": [
    "import pandas as pd\n",
    "import numpy as np\n",
    "\n",
    "from sklearn import preprocessing\n",
    "from sklearn.ensemble import RandomForestClassifier\n",
    "from sklearn.model_selection import train_test_split\n",
    "from sklearn.linear_model import LogisticRegression\n",
    "\n",
    "from xai.xailib.data_loaders.dataframe_loader import prepare_dataframe\n",
    "\n",
    "from xailib.explainers.lime_explainer import LimeXAITabularExplainer\n",
    "from xailib.explainers.lore_explainer import LoreTabularExplainer\n",
    "from xailib.explainers.shap_explainer_tab import ShapXAITabularExplainer\n",
    "\n",
    "from xailib.models.sklearn_classifier_wrapper import sklearn_classifier_wrapper"
   ]
  },
  {
   "cell_type": "markdown",
   "id": "classical-profession",
   "metadata": {},
   "source": [
    "### Load the german dataset and prepare it\n",
    "#### The german credit dataset is a small dataset which classifies people as high or low credit risk. It contains several features, most of them categorical. "
   ]
  },
  {
   "cell_type": "code",
   "execution_count": 1,
   "id": "universal-crossing",
   "metadata": {},
   "outputs": [
    {
     "ename": "NameError",
     "evalue": "name 'pd' is not defined",
     "output_type": "error",
     "traceback": [
      "\u001b[0;31m---------------------------------------------------------------------------\u001b[0m",
      "\u001b[0;31mNameError\u001b[0m                                 Traceback (most recent call last)",
      "\u001b[0;32m<ipython-input-1-a57165a452aa>\u001b[0m in \u001b[0;36m<module>\u001b[0;34m\u001b[0m\n\u001b[1;32m      2\u001b[0m \u001b[0mclass_field\u001b[0m \u001b[0;34m=\u001b[0m \u001b[0;34m'default'\u001b[0m\u001b[0;34m\u001b[0m\u001b[0;34m\u001b[0m\u001b[0m\n\u001b[1;32m      3\u001b[0m \u001b[0;31m# Load and transform dataset\u001b[0m\u001b[0;34m\u001b[0m\u001b[0;34m\u001b[0m\u001b[0;34m\u001b[0m\u001b[0m\n\u001b[0;32m----> 4\u001b[0;31m \u001b[0mdf\u001b[0m \u001b[0;34m=\u001b[0m \u001b[0mpd\u001b[0m\u001b[0;34m.\u001b[0m\u001b[0mread_csv\u001b[0m\u001b[0;34m(\u001b[0m\u001b[0msource_file\u001b[0m\u001b[0;34m,\u001b[0m \u001b[0mskipinitialspace\u001b[0m\u001b[0;34m=\u001b[0m\u001b[0;32mTrue\u001b[0m\u001b[0;34m,\u001b[0m \u001b[0mna_values\u001b[0m\u001b[0;34m=\u001b[0m\u001b[0;34m'?'\u001b[0m\u001b[0;34m,\u001b[0m \u001b[0mkeep_default_na\u001b[0m\u001b[0;34m=\u001b[0m\u001b[0;32mTrue\u001b[0m\u001b[0;34m)\u001b[0m\u001b[0;34m\u001b[0m\u001b[0;34m\u001b[0m\u001b[0m\n\u001b[0m",
      "\u001b[0;31mNameError\u001b[0m: name 'pd' is not defined"
     ]
    }
   ],
   "source": [
    "source_file = 'datasets/german_credit.csv'\n",
    "class_field = 'default'\n",
    "# Load and transform dataset \n",
    "df = pd.read_csv(source_file, skipinitialspace=True, na_values='?', keep_default_na=True)"
   ]
  },
  {
   "cell_type": "code",
   "execution_count": 8,
   "id": "naughty-bible",
   "metadata": {},
   "outputs": [],
   "source": [
    "df, feature_names, class_values, numeric_columns, rdf, real_feature_names, features_map = prepare_dataframe(df, class_field)"
   ]
  },
  {
   "cell_type": "markdown",
   "id": "alpha-novelty",
   "metadata": {},
   "source": [
    "### Split the dataset into train and test and scale it"
   ]
  },
  {
   "cell_type": "code",
   "execution_count": 9,
   "id": "chemical-inspector",
   "metadata": {},
   "outputs": [],
   "source": [
    "test_size = 0.3\n",
    "random_state = 42\n",
    "X_train, X_test, Y_train, Y_test = train_test_split(df[feature_names], df[class_field],\n",
    "                                                        test_size=test_size,\n",
    "                                                        random_state=random_state,\n",
    "                                                        stratify=df[class_field])\n",
    "\n"
   ]
  },
  {
   "cell_type": "markdown",
   "id": "permanent-helena",
   "metadata": {},
   "source": [
    "### Define and train a logistic regression model"
   ]
  },
  {
   "cell_type": "code",
   "execution_count": 10,
   "id": "peaceful-expansion",
   "metadata": {},
   "outputs": [],
   "source": [
    "scaler = preprocessing.StandardScaler().fit(X_train)\n",
    "X_scaled = scaler.transform(X_train)\n",
    "\n",
    "bb = LogisticRegression(C=1, penalty='l2')\n",
    "bb.fit(X_scaled, Y_train.values)\n",
    "# pass the model to the wrapper to use it in the XAI lib\n",
    "bbox = sklearn_classifier_wrapper(bb)"
   ]
  },
  {
   "cell_type": "code",
   "execution_count": 11,
   "id": "greater-crossing",
   "metadata": {},
   "outputs": [
    {
     "name": "stdout",
     "output_type": "stream",
     "text": [
      "Instance  [ 2.27797454  3.35504085  0.94540357  1.07634233  0.04854891 -0.72456474\n",
      " -0.43411405  1.65027399 -0.61477862 -0.25898489]\n",
      "True class  1\n",
      "Predicted class  [1]\n"
     ]
    }
   ],
   "source": [
    "# select a record to explain\n",
    "inst = X_scaled[182]\n",
    "print('Instance ',inst[0:10])\n",
    "print('True class ',Y_train.iloc[18])\n",
    "print('Predicted class ',bb.predict(inst.reshape(1, -1)))"
   ]
  },
  {
   "cell_type": "markdown",
   "id": "direct-schema",
   "metadata": {},
   "source": [
    "### SHAP explainer\n",
    "##### We first define the explainer method we want to use: SHAP. It produces feature importance. Then, we can define a dictionary containing the SHAP's parameters we want. \n",
    "##### Explainer can be: linear, tree, kernel, deep\n",
    "##### X_train is the training set we want the explainer to train on. It can be all the training set used for the training of the target model, just a piece of it or we can apply a clustering algorithm on it. "
   ]
  },
  {
   "cell_type": "code",
   "execution_count": 12,
   "id": "filled-employer",
   "metadata": {},
   "outputs": [],
   "source": [
    "explainer = ShapXAITabularExplainer(bbox, feature_names)\n",
    "config = {'explainer' : 'linear', 'X_train' : X_scaled[0:100], 'feature_pert' : 'interventional'}\n",
    "\n",
    "explainer.fit(config)"
   ]
  },
  {
   "cell_type": "markdown",
   "id": "distinct-triumph",
   "metadata": {},
   "source": [
    "#### We explain the instance and obtain the SHAP values"
   ]
  },
  {
   "cell_type": "code",
   "execution_count": 13,
   "id": "cardiac-polish",
   "metadata": {},
   "outputs": [
    {
     "name": "stdout",
     "output_type": "stream",
     "text": [
      "building an explanation\n",
      "<xailib.explainers.shap_explainer_tab.ShapXAITabularExplanation object at 0x7fdab1074550>\n"
     ]
    }
   ],
   "source": [
    "print('building an explanation')\n",
    "exp = explainer.explain(inst)\n",
    "print(exp)"
   ]
  },
  {
   "cell_type": "code",
   "execution_count": 14,
   "id": "isolated-exhibition",
   "metadata": {},
   "outputs": [
    {
     "data": {
      "text/html": [
       "\n",
       "        <style>\n",
       "        .vega-bind {\n",
       "          position: absolute;\n",
       "          left: 0px;\n",
       "          top: 0px;\n",
       "          background-color:#eee;\n",
       "          padding:10px;\n",
       "          font-size:10px;\n",
       "        }\n",
       "        .chart-wrapper{\n",
       "          padding-top: 70px;\n",
       "        }\n",
       "\n",
       "        </style>\n",
       "        "
      ],
      "text/plain": [
       "<IPython.core.display.HTML object>"
      ]
     },
     "metadata": {},
     "output_type": "display_data"
    },
    {
     "data": {
      "text/html": [
       "\n",
       "<div id=\"altair-viz-8e615ac69a65432f95f18c2faf9c29ea\"></div>\n",
       "<script type=\"text/javascript\">\n",
       "  (function(spec, embedOpt){\n",
       "    let outputDiv = document.currentScript.previousElementSibling;\n",
       "    if (outputDiv.id !== \"altair-viz-8e615ac69a65432f95f18c2faf9c29ea\") {\n",
       "      outputDiv = document.getElementById(\"altair-viz-8e615ac69a65432f95f18c2faf9c29ea\");\n",
       "    }\n",
       "    const paths = {\n",
       "      \"vega\": \"https://cdn.jsdelivr.net/npm//vega@5?noext\",\n",
       "      \"vega-lib\": \"https://cdn.jsdelivr.net/npm//vega-lib?noext\",\n",
       "      \"vega-lite\": \"https://cdn.jsdelivr.net/npm//vega-lite@4.8.1?noext\",\n",
       "      \"vega-embed\": \"https://cdn.jsdelivr.net/npm//vega-embed@6?noext\",\n",
       "    };\n",
       "\n",
       "    function loadScript(lib) {\n",
       "      return new Promise(function(resolve, reject) {\n",
       "        var s = document.createElement('script');\n",
       "        s.src = paths[lib];\n",
       "        s.async = true;\n",
       "        s.onload = () => resolve(paths[lib]);\n",
       "        s.onerror = () => reject(`Error loading script: ${paths[lib]}`);\n",
       "        document.getElementsByTagName(\"head\")[0].appendChild(s);\n",
       "      });\n",
       "    }\n",
       "\n",
       "    function showError(err) {\n",
       "      outputDiv.innerHTML = `<div class=\"error\" style=\"color:red;\">${err}</div>`;\n",
       "      throw err;\n",
       "    }\n",
       "\n",
       "    function displayChart(vegaEmbed) {\n",
       "      vegaEmbed(outputDiv, spec, embedOpt)\n",
       "        .catch(err => showError(`Javascript Error: ${err.message}<br>This usually means there's a typo in your chart specification. See the javascript console for the full traceback.`));\n",
       "    }\n",
       "\n",
       "    if(typeof define === \"function\" && define.amd) {\n",
       "      requirejs.config({paths});\n",
       "      require([\"vega-embed\"], displayChart, err => showError(`Error loading script: ${err.message}`));\n",
       "    } else if (typeof vegaEmbed === \"function\") {\n",
       "      displayChart(vegaEmbed);\n",
       "    } else {\n",
       "      loadScript(\"vega\")\n",
       "        .then(() => loadScript(\"vega-lite\"))\n",
       "        .then(() => loadScript(\"vega-embed\"))\n",
       "        .catch(showError)\n",
       "        .then(() => displayChart(vegaEmbed));\n",
       "    }\n",
       "  })({\"config\": {\"view\": {\"continuousWidth\": 400, \"continuousHeight\": 300}, \"axis\": {\"labelFontSize\": 10, \"labelLimit\": 225.0}}, \"vconcat\": [{\"layer\": [{\"data\": {\"name\": \"data-ff0a70cacdc6f5bba308095f10544d9a\"}, \"mark\": {\"type\": \"rule\", \"strokeWidth\": 3}, \"encoding\": {\"color\": {\"type\": \"quantitative\", \"field\": \"xValue\", \"legend\": null, \"scale\": {\"domain\": [-0.8470079627378554, 0.8470079627378554], \"domainMid\": 0, \"scheme\": \"redyellowblue\"}}, \"x\": {\"type\": \"quantitative\", \"axis\": {\"orient\": \"top\", \"titleFontSize\": 10}, \"field\": \"xValue\", \"title\": \"Select a cutoff range for Feature Importance values \"}}}, {\"data\": {\"name\": \"data-c7bc3ae69e1253e8223f70a11d04b99d\"}, \"mark\": {\"type\": \"rect\", \"color\": \"black\", \"height\": 20, \"opacity\": 0.4, \"tooltip\": true}, \"encoding\": {\"x\": {\"type\": \"quantitative\", \"field\": \"x_min\"}, \"x2\": {\"field\": \"x_max\"}, \"y\": {\"type\": \"quantitative\", \"axis\": null, \"field\": \"y\"}}, \"selection\": {\"Cutter\": {\"type\": \"single\", \"fields\": [\"cutoff\"], \"bind\": {\"input\": \"range\", \"max\": 0.8470079627378554, \"min\": 0, \"name\": \"Importance cutoff value (\\u00b1) \", \"step\": 0.016940159254757108}, \"init\": {\"cutoff\": 0.0}}}, \"transform\": [{\"calculate\": \"(-Cutter.cutoff)\", \"as\": \"x_min\"}, {\"calculate\": \"Cutter.cutoff\", \"as\": \"x_max\"}]}], \"height\": 20}, {\"layer\": [{\"data\": {\"name\": \"data-0950a43e1af068c5582afe3c60bb3b6d\"}, \"mark\": \"bar\", \"encoding\": {\"color\": {\"type\": \"quantitative\", \"field\": \"value\", \"legend\": null, \"scale\": {\"domain\": [-0.8470079627378554, 0.8470079627378554], \"domainMid\": 0, \"scheme\": \"blueorange\"}}, \"tooltip\": [{\"type\": \"nominal\", \"field\": \"name\", \"title\": \"Feature\"}, {\"type\": \"quantitative\", \"field\": \"value\", \"title\": \"Importance\"}], \"x\": {\"type\": \"quantitative\", \"field\": \"value\", \"title\": null}, \"y\": {\"type\": \"nominal\", \"field\": \"name\", \"sort\": {\"field\": \"value\", \"op\": \"mean\", \"order\": \"descending\"}, \"title\": null}}, \"selection\": {\"Cutter\": {\"type\": \"single\", \"fields\": [\"cutoff\"], \"bind\": {\"input\": \"range\", \"max\": 0.8470079627378554, \"min\": 0, \"name\": \"Importance cutoff value (\\u00b1) \", \"step\": 0.016940159254757108}, \"init\": {\"cutoff\": 0.0}}}, \"transform\": [{\"filter\": \"((datum.value > Cutter.cutoff) || (datum.value < (-Cutter.cutoff)))\"}]}, {\"data\": {\"name\": \"data-9c00aa9dc2b1c1a0b4bf9b34ead12925\"}, \"mark\": \"rule\", \"encoding\": {\"x\": {\"type\": \"quantitative\", \"field\": \"x\"}}}]}], \"padding\": 10, \"$schema\": \"https://vega.github.io/schema/vega-lite/v4.8.1.json\", \"datasets\": {\"data-ff0a70cacdc6f5bba308095f10544d9a\": [{\"xValue\": -0.8470079627378554}, {\"xValue\": -0.8385378831104768}, {\"xValue\": -0.8300678034830983}, {\"xValue\": -0.8215977238557197}, {\"xValue\": -0.8131276442283412}, {\"xValue\": -0.8046575646009626}, {\"xValue\": -0.796187484973584}, {\"xValue\": -0.7877174053462055}, {\"xValue\": -0.7792473257188269}, {\"xValue\": -0.7707772460914484}, {\"xValue\": -0.7623071664640698}, {\"xValue\": -0.7538370868366913}, {\"xValue\": -0.7453670072093127}, {\"xValue\": -0.7368969275819341}, {\"xValue\": -0.7284268479545556}, {\"xValue\": -0.719956768327177}, {\"xValue\": -0.7114866886997985}, {\"xValue\": -0.7030166090724199}, {\"xValue\": -0.6945465294450414}, {\"xValue\": -0.6860764498176628}, {\"xValue\": -0.6776063701902842}, {\"xValue\": -0.6691362905629057}, {\"xValue\": -0.6606662109355271}, {\"xValue\": -0.6521961313081486}, {\"xValue\": -0.64372605168077}, {\"xValue\": -0.6352559720533915}, {\"xValue\": -0.6267858924260129}, {\"xValue\": -0.6183158127986343}, {\"xValue\": -0.6098457331712558}, {\"xValue\": -0.6013756535438772}, {\"xValue\": -0.5929055739164987}, {\"xValue\": -0.5844354942891201}, {\"xValue\": -0.5759654146617416}, {\"xValue\": -0.567495335034363}, {\"xValue\": -0.5590252554069844}, {\"xValue\": -0.5505551757796059}, {\"xValue\": -0.5420850961522273}, {\"xValue\": -0.5336150165248488}, {\"xValue\": -0.5251449368974702}, {\"xValue\": -0.5166748572700917}, {\"xValue\": -0.5082047776427131}, {\"xValue\": -0.49973469801533454}, {\"xValue\": -0.491264618387956}, {\"xValue\": -0.48279453876057743}, {\"xValue\": -0.4743244591331989}, {\"xValue\": -0.4658543795058203}, {\"xValue\": -0.45738429987844176}, {\"xValue\": -0.4489142202510632}, {\"xValue\": -0.44044414062368464}, {\"xValue\": -0.4319740609963061}, {\"xValue\": -0.42350398136892753}, {\"xValue\": -0.41503390174154897}, {\"xValue\": -0.4065638221141704}, {\"xValue\": -0.39809374248679186}, {\"xValue\": -0.3896236628594133}, {\"xValue\": -0.38115358323203474}, {\"xValue\": -0.3726835036046562}, {\"xValue\": -0.36421342397727763}, {\"xValue\": -0.35574334434989907}, {\"xValue\": -0.3472732647225205}, {\"xValue\": -0.33880318509514196}, {\"xValue\": -0.3303331054677634}, {\"xValue\": -0.32186302584038484}, {\"xValue\": -0.3133929462130063}, {\"xValue\": -0.3049228665856277}, {\"xValue\": -0.29645278695824917}, {\"xValue\": -0.2879827073308706}, {\"xValue\": -0.27951262770349206}, {\"xValue\": -0.2710425480761135}, {\"xValue\": -0.26257246844873494}, {\"xValue\": -0.2541023888213564}, {\"xValue\": -0.24563230919397783}, {\"xValue\": -0.23716222956659927}, {\"xValue\": -0.2286921499392207}, {\"xValue\": -0.22022207031184216}, {\"xValue\": -0.2117519906844636}, {\"xValue\": -0.20328191105708504}, {\"xValue\": -0.19481183142970648}, {\"xValue\": -0.18634175180232793}, {\"xValue\": -0.17787167217494937}, {\"xValue\": -0.1694015925475708}, {\"xValue\": -0.16093151292019225}, {\"xValue\": -0.1524614332928137}, {\"xValue\": -0.14399135366543514}, {\"xValue\": -0.13552127403805658}, {\"xValue\": -0.12705119441067803}, {\"xValue\": -0.11858111478329947}, {\"xValue\": -0.11011103515592091}, {\"xValue\": -0.10164095552854235}, {\"xValue\": -0.0931708759011638}, {\"xValue\": -0.08470079627378524}, {\"xValue\": -0.07623071664640668}, {\"xValue\": -0.06776063701902812}, {\"xValue\": -0.05929055739164957}, {\"xValue\": -0.05082047776427101}, {\"xValue\": -0.04235039813689245}, {\"xValue\": -0.033880318509513896}, {\"xValue\": -0.02541023888213534}, {\"xValue\": -0.01694015925475678}, {\"xValue\": -0.008470079627378224}, {\"xValue\": 3.3306690738754696e-16}, {\"xValue\": 0.00847007962737889}, {\"xValue\": 0.016940159254757448}, {\"xValue\": 0.025410238882136005}, {\"xValue\": 0.03388031850951456}, {\"xValue\": 0.04235039813689312}, {\"xValue\": 0.050820477764271677}, {\"xValue\": 0.059290557391650234}, {\"xValue\": 0.06776063701902879}, {\"xValue\": 0.07623071664640735}, {\"xValue\": 0.0847007962737859}, {\"xValue\": 0.09317087590116446}, {\"xValue\": 0.10164095552854302}, {\"xValue\": 0.11011103515592158}, {\"xValue\": 0.11858111478330013}, {\"xValue\": 0.1270511944106787}, {\"xValue\": 0.13552127403805725}, {\"xValue\": 0.1439913536654358}, {\"xValue\": 0.15246143329281436}, {\"xValue\": 0.16093151292019303}, {\"xValue\": 0.16940159254757148}, {\"xValue\": 0.17787167217494992}, {\"xValue\": 0.1863417518023286}, {\"xValue\": 0.19481183142970726}, {\"xValue\": 0.2032819110570857}, {\"xValue\": 0.21175199068446415}, {\"xValue\": 0.22022207031184282}, {\"xValue\": 0.2286921499392215}, {\"xValue\": 0.23716222956659994}, {\"xValue\": 0.24563230919397838}, {\"xValue\": 0.25410238882135705}, {\"xValue\": 0.2625724684487357}, {\"xValue\": 0.27104254807611416}, {\"xValue\": 0.2795126277034926}, {\"xValue\": 0.2879827073308713}, {\"xValue\": 0.29645278695824995}, {\"xValue\": 0.3049228665856284}, {\"xValue\": 0.31339294621300684}, {\"xValue\": 0.3218630258403855}, {\"xValue\": 0.3303331054677642}, {\"xValue\": 0.3388031850951426}, {\"xValue\": 0.34727326472252107}, {\"xValue\": 0.35574334434989974}, {\"xValue\": 0.3642134239772784}, {\"xValue\": 0.37268350360465685}, {\"xValue\": 0.3811535832320353}, {\"xValue\": 0.38962366285941397}, {\"xValue\": 0.39809374248679263}, {\"xValue\": 0.4065638221141711}, {\"xValue\": 0.4150339017415495}, {\"xValue\": 0.4235039813689282}, {\"xValue\": 0.43197406099630686}, {\"xValue\": 0.4404441406236853}, {\"xValue\": 0.44891422025106376}, {\"xValue\": 0.4573842998784424}, {\"xValue\": 0.4658543795058211}, {\"xValue\": 0.47432445913319954}, {\"xValue\": 0.482794538760578}, {\"xValue\": 0.49126461838795665}, {\"xValue\": 0.4997346980153353}, {\"xValue\": 0.5082047776427138}, {\"xValue\": 0.5166748572700922}, {\"xValue\": 0.5251449368974709}, {\"xValue\": 0.5336150165248496}, {\"xValue\": 0.542085096152228}, {\"xValue\": 0.5505551757796064}, {\"xValue\": 0.5590252554069851}, {\"xValue\": 0.5674953350343638}, {\"xValue\": 0.5759654146617422}, {\"xValue\": 0.5844354942891207}, {\"xValue\": 0.5929055739164993}, {\"xValue\": 0.601375653543878}, {\"xValue\": 0.6098457331712565}, {\"xValue\": 0.6183158127986349}, {\"xValue\": 0.6267858924260136}, {\"xValue\": 0.6352559720533922}, {\"xValue\": 0.6437260516807707}, {\"xValue\": 0.6521961313081491}, {\"xValue\": 0.6606662109355278}, {\"xValue\": 0.6691362905629065}, {\"xValue\": 0.6776063701902849}, {\"xValue\": 0.6860764498176634}, {\"xValue\": 0.694546529445042}, {\"xValue\": 0.7030166090724207}, {\"xValue\": 0.7114866886997991}, {\"xValue\": 0.7199567683271776}, {\"xValue\": 0.7284268479545563}, {\"xValue\": 0.7368969275819349}, {\"xValue\": 0.7453670072093134}, {\"xValue\": 0.7538370868366918}, {\"xValue\": 0.7623071664640705}, {\"xValue\": 0.7707772460914492}, {\"xValue\": 0.7792473257188276}, {\"xValue\": 0.787717405346206}, {\"xValue\": 0.7961874849735847}, {\"xValue\": 0.8046575646009634}, {\"xValue\": 0.8131276442283418}, {\"xValue\": 0.8215977238557203}, {\"xValue\": 0.8300678034830989}, {\"xValue\": 0.8385378831104776}], \"data-c7bc3ae69e1253e8223f70a11d04b99d\": [{\"y\": 0, \"x\": -0.5, \"x2\": 0.5}], \"data-0950a43e1af068c5582afe3c60bb3b6d\": [{\"name\": \"duration_in_month\", \"value\": 0.8470079627378554}, {\"name\": \"credit_amount\", \"value\": 0.6944189404874562}, {\"name\": \"installment_as_income_perc\", \"value\": 0.3043826317623827}, {\"name\": \"present_res_since\", \"value\": -0.017915878343538232}, {\"name\": \"age\", \"value\": -0.0051635834105773675}, {\"name\": \"credits_this_bank\", \"value\": -0.20402960332384296}, {\"name\": \"people_under_maintenance\", \"value\": -0.0567559310973543}, {\"name\": \"account_check_status=0 <= ... < 200 DM\", \"value\": 0.2939399436033415}, {\"name\": \"account_check_status=< 0 DM\", \"value\": -0.21818023774927794}, {\"name\": \"account_check_status=>= 200 DM / salary assignments for at least 1 year\", \"value\": 9.60072863884924e-05}, {\"name\": \"account_check_status=no checking account\", \"value\": 0.350212400335396}, {\"name\": \"credit_history=all credits at this bank paid back duly\", \"value\": 0.6337640692749561}, {\"name\": \"credit_history=critical account/ other credits existing (not at this bank)\", \"value\": 0.2182330536323594}, {\"name\": \"credit_history=delay in paying off in the past\", \"value\": -0.01125360241557439}, {\"name\": \"credit_history=existing credits paid back duly till now\", \"value\": -0.13292335773836636}, {\"name\": \"credit_history=no credits taken/ all credits paid back duly\", \"value\": -0.029597808453158913}, {\"name\": \"purpose=(vacation - does not exist?)\", \"value\": -0.06856154357807037}, {\"name\": \"purpose=business\", \"value\": 0.0036741534256490398}, {\"name\": \"purpose=car (new)\", \"value\": 0.2513672502321302}, {\"name\": \"purpose=car (used)\", \"value\": 0.0846816095303167}, {\"name\": \"purpose=domestic appliances\", \"value\": 0.03854879546694732}, {\"name\": \"purpose=education\", \"value\": 0.0}, {\"name\": \"purpose=furniture/equipment\", \"value\": -2.944680261858204e-18}, {\"name\": \"purpose=radio/television\", \"value\": 0.0064927573195548436}, {\"name\": \"purpose=repairs\", \"value\": 0.005963146482736755}, {\"name\": \"purpose=retraining\", \"value\": 2.390172708554592e-18}, {\"name\": \"savings=.. >= 1000 DM \", \"value\": 0.05670527686156034}, {\"name\": \"savings=... < 100 DM\", \"value\": -0.3381927316489708}, {\"name\": \"savings=100 <= ... < 500 DM\", \"value\": -0.012064219528328484}, {\"name\": \"savings=500 <= ... < 1000 DM \", \"value\": 0.0010553301554828635}, {\"name\": \"savings=unknown/ no savings account\", \"value\": -0.555665401117697}, {\"name\": \"present_emp_since=.. >= 7 years\", \"value\": 0.005294090093486782}, {\"name\": \"present_emp_since=... < 1 year \", \"value\": -0.046549794178933054}, {\"name\": \"present_emp_since=1 <= ... < 4 years\", \"value\": -0.017047143561136274}, {\"name\": \"present_emp_since=4 <= ... < 7 years\", \"value\": 0.09509224367078739}, {\"name\": \"present_emp_since=unemployed\", \"value\": 0.7263825390264522}, {\"name\": \"personal_status_sex=female : divorced/separated/married\", \"value\": -0.05151278954058165}, {\"name\": \"personal_status_sex=male : divorced/separated\", \"value\": -0.023431119320486592}, {\"name\": \"personal_status_sex=male : married/widowed\", \"value\": -0.016502801133490157}, {\"name\": \"personal_status_sex=male : single\", \"value\": -0.13499412020560117}, {\"name\": \"other_debtors=co-applicant\", \"value\": 0.4216950434310736}, {\"name\": \"other_debtors=guarantor\", \"value\": 0.03122510397721989}, {\"name\": \"other_debtors=none\", \"value\": -0.1120399656913055}, {\"name\": \"property=if not A121 : building society savings agreement/ life insurance\", \"value\": 0.04236722282145037}, {\"name\": \"property=if not A121/A122 : car or other, not in attribute 6\", \"value\": 0.041922435650431536}, {\"name\": \"property=real estate\", \"value\": 0.08147897763988665}, {\"name\": \"property=unknown / no property\", \"value\": 0.7764063820618664}, {\"name\": \"other_installment_plans=bank\", \"value\": -0.07246505874542271}, {\"name\": \"other_installment_plans=none\", \"value\": -0.08219083585223697}, {\"name\": \"other_installment_plans=stores\", \"value\": 0.001695240834817897}, {\"name\": \"housing=for free\", \"value\": -0.7476842519071202}, {\"name\": \"housing=own\", \"value\": 0.023375705983558922}, {\"name\": \"housing=rent\", \"value\": -0.10575330547369452}, {\"name\": \"job=management/ self-employed/ highly qualified employee/ officer\", \"value\": -0.12195987590713772}, {\"name\": \"job=skilled employee / official\", \"value\": -0.028367937850261916}, {\"name\": \"job=unemployed/ unskilled - non-resident\", \"value\": 0.0028731561879944915}, {\"name\": \"job=unskilled - resident\", \"value\": -0.014458079729266908}, {\"name\": \"telephone=none\", \"value\": -0.07507070030786597}, {\"name\": \"telephone=yes, registered under the customers name \", \"value\": -0.07507070030786554}, {\"name\": \"foreign_worker=no\", \"value\": 0.042689732160679304}, {\"name\": \"foreign_worker=yes\", \"value\": 0.04268973216067926}], \"data-9c00aa9dc2b1c1a0b4bf9b34ead12925\": [{\"x\": 0}]}}, {\"mode\": \"vega-lite\"});\n",
       "</script>"
      ],
      "text/plain": [
       "alt.VConcatChart(...)"
      ]
     },
     "metadata": {},
     "output_type": "display_data"
    }
   ],
   "source": [
    "exp.plot_features_importance()"
   ]
  },
  {
   "cell_type": "markdown",
   "id": "blocked-holocaust",
   "metadata": {},
   "source": [
    "### LORE explainer\n",
    "##### We first define the explainer method we want to use: LORE. It produces rules and counterfactual rules. We can define a dictionary containing the LORE's parameters we want. \n",
    "##### neigh_type can be: random, genetic, rndgen, geneticp, rndgenp"
   ]
  },
  {
   "cell_type": "code",
   "execution_count": 16,
   "id": "worldwide-cooling",
   "metadata": {},
   "outputs": [
    {
     "name": "stdout",
     "output_type": "stream",
     "text": [
      "r = { age <= 20.73, credit_amount > -439.64, purpose=retraining <= 0.12, duration_in_month > -1.94, purpose=furniture/equipment <= 0.18, foreign_worker=no <= 0.72, purpose=domestic appliances <= 1.02, savings=.. >= 1000 DM  <= 0.72, purpose=(vacation - does not exist?) <= 0.46, credit_history=critical account/ other credits existing (not at this bank) <= 0.91, people_under_maintenance <= -0.01 } --> { default: 1 }\n",
      "c = { { credit_amount <= -439.64 },\n",
      "      { age > 20.73 } }\n"
     ]
    }
   ],
   "source": [
    "explainer = LoreTabularExplainer(bbox)\n",
    "config = {'neigh_type':'geneticp', 'size':1000, 'ocr':0.1, 'ngen':10}\n",
    "explainer.fit(df, class_field, config)\n",
    "exp = explainer.explain(inst)\n",
    "print(exp)"
   ]
  },
  {
   "cell_type": "markdown",
   "id": "united-cargo",
   "metadata": {},
   "source": [
    "### LIME explainer\n",
    "##### We first define the explainer method we want to use: LIME. It produces feature importances. We can define a dictionary containing the LIME's parameters we want. \n",
    "##### There are several parameters we can define: feature selection, discretize continuous, discretizer, sample_around_instance, kernel width, kernel."
   ]
  },
  {
   "cell_type": "code",
   "execution_count": 17,
   "id": "heard-albuquerque",
   "metadata": {},
   "outputs": [
    {
     "name": "stdout",
     "output_type": "stream",
     "text": [
      "[('other_debtors=co-applicant', -1.2099484483255092e-09), ('credit_history=all credits at this bank paid back duly', -9.807292855860074e-10), ('present_emp_since=unemployed', -8.905493791597428e-10), ('other_debtors=none', 6.501490037885416e-10), ('housing=for free', -4.510074423165453e-10), ('credit_amount', 3.434739931156657e-10), ('job=management/ self-employed/ highly qualified employee/ officer', -3.072084086389175e-10), ('property=unknown / no property', -3.0472604540923717e-10), ('savings=unknown/ no savings account', -3.0122747825365184e-10), ('savings=... < 100 DM', 2.405511062391587e-10), ('credits_this_bank', 2.371877264255121e-10), ('housing=own', 2.198182579019193e-10), ('property=real estate', 1.942527163166695e-10), ('account_check_status=0 <= ... < 200 DM', -1.8341777236604474e-10), ('foreign_worker=yes', 1.7351459527660338e-10), ('purpose=car (new)', -1.6299442716105222e-10), ('account_check_status=no checking account', 1.6227117790107726e-10), ('people_under_maintenance', 1.5304690593021084e-10), ('telephone=none', 1.501269438580928e-10), ('job=skilled employee / official', 1.4755823601046546e-10), ('present_emp_since=1 <= ... < 4 years', 1.3430240859618847e-10), ('present_emp_since=.. >= 7 years', 1.3193365206790346e-10), ('credit_history=critical account/ other credits existing (not at this bank)', 1.3175669590905095e-10), ('telephone=yes, registered under the customers name ', -1.2732345510558688e-10), ('present_res_since', 1.265467963509883e-10), ('account_check_status=< 0 DM', 1.2483279655786126e-10), ('credit_history=existing credits paid back duly till now', 1.2320948618922212e-10), ('age', 1.1714087362509204e-10), ('savings=100 <= ... < 500 DM', 1.0589266128040795e-10), ('installment_as_income_perc', 9.955813240938253e-11), ('property=if not A121/A122 : car or other, not in attribute 6', 9.81462518079441e-11), ('purpose=(vacation - does not exist?)', 9.383795155929534e-11), ('foreign_worker=no', 9.322580475201142e-11), ('purpose=repairs', 9.257177898604967e-11), ('duration_in_month', 8.984307141394082e-11), ('property=if not A121 : building society savings agreement/ life insurance', 8.848275879291266e-11), ('personal_status_sex=female : divorced/separated/married', 7.681401438135249e-11), ('job=unskilled - resident', 7.674718320500958e-11), ('housing=rent', 7.631050365053395e-11), ('other_installment_plans=bank', 7.290995815442137e-11), ('present_emp_since=... < 1 year ', 7.23109993328869e-11), ('credit_history=delay in paying off in the past', 7.115142897128736e-11), ('credit_history=no credits taken/ all credits paid back duly', 6.964967605789763e-11), ('account_check_status=>= 200 DM / salary assignments for at least 1 year', 6.563734076634358e-11), ('personal_status_sex=male : divorced/separated', 6.151444572082632e-11), ('purpose=retraining', 5.728820944883803e-11), ('savings=.. >= 1000 DM ', 5.677561821886676e-11), ('other_installment_plans=none', 5.636552080214377e-11), ('purpose=radio/television', 5.4746392852235444e-11), ('purpose=education', 5.384246144690712e-11), ('purpose=domestic appliances', 5.286396678576474e-11), ('other_installment_plans=stores', 5.060732147849203e-11), ('purpose=business', 4.7107423811573386e-11), ('purpose=car (used)', 4.6208633403466295e-11), ('savings=500 <= ... < 1000 DM ', 4.263033961414445e-11), ('personal_status_sex=male : married/widowed', 3.833905983887041e-11), ('personal_status_sex=male : single', -3.736088059172294e-11), ('purpose=furniture/equipment', 3.348518164674579e-11), ('job=unemployed/ unskilled - non-resident', -3.167092064106549e-11), ('other_debtors=guarantor', -2.0700543544221638e-11), ('present_emp_since=4 <= ... < 7 years', 1.0229281485433847e-11)]\n"
     ]
    }
   ],
   "source": [
    "limeExplainer = LimeXAITabularExplainer(bbox)\n",
    "config = {'feature_selection': 'lasso_path'}\n",
    "limeExplainer.fit(df, class_field, config)\n",
    "lime_exp = limeExplainer.explain(inst)\n",
    "print(lime_exp.as_list())"
   ]
  },
  {
   "cell_type": "markdown",
   "id": "victorian-broadcast",
   "metadata": {},
   "source": [
    "##### To plot the explanation, we pass the explanation as a list (tuples, where the first element is the feature name and the second the actual feature importance), start and end of the range of features we want to visualize."
   ]
  },
  {
   "cell_type": "code",
   "execution_count": 18,
   "id": "innocent-circular",
   "metadata": {},
   "outputs": [
    {
     "data": {
      "image/png": "[encoded data removed]",
      "text/plain": [
       "<Figure size 720x576 with 1 Axes>"
      ]
     },
     "metadata": {
      "needs_background": "light"
     },
     "output_type": "display_data"
    }
   ],
   "source": [
    "limeExplainer.plot_lime_values(lime_exp.as_list(), 4, 15)"
   ]
  },
  {
   "cell_type": "markdown",
   "id": "hired-philippines",
   "metadata": {},
   "source": [
    "### Define and train a RFClassifier"
   ]
  },
  {
   "cell_type": "code",
   "execution_count": 14,
   "id": "western-program",
   "metadata": {},
   "outputs": [],
   "source": [
    "bb = RandomForestClassifier(n_estimators=20, random_state=random_state)\n",
    "bb.fit(X_train.values, Y_train.values)\n",
    "bbox = sklearn_classifier_wrapper(bb)   "
   ]
  },
  {
   "cell_type": "code",
   "execution_count": 15,
   "id": "alternate-cinema",
   "metadata": {},
   "outputs": [],
   "source": [
    "explainer = ShapXAITabularExplainer(bbox, feature_names)\n",
    "config = {'explainer' : 'tree', 'X_train' : X_train.iloc[0:100].values}\n",
    "explainer.fit(config)"
   ]
  },
  {
   "cell_type": "code",
   "execution_count": 16,
   "id": "robust-shelf",
   "metadata": {},
   "outputs": [
    {
     "name": "stdout",
     "output_type": "stream",
     "text": [
      "Instance  [ 15 975   2   3  25   2   1   0   1   0]\n",
      "True class  0\n",
      "Predicted class  [0]\n"
     ]
    }
   ],
   "source": [
    "inst = X_train.iloc[147].values\n",
    "print('Instance ',inst[0:10])\n",
    "print('True class ',Y_train.iloc[8])\n",
    "print('Predicted class ',bb.predict(inst.reshape(1, -1)))"
   ]
  },
  {
   "cell_type": "code",
   "execution_count": 17,
   "id": "desirable-raleigh",
   "metadata": {},
   "outputs": [
    {
     "name": "stdout",
     "output_type": "stream",
     "text": [
      "building an explanation\n",
      "[array([ 4.88664708e-02,  3.87472686e-03,  2.59326271e-02,  9.82242474e-04,\n",
      "        1.97730355e-02, -4.55620361e-03,  6.69295353e-04,  2.30659473e-02,\n",
      "       -2.99598466e-02,  2.15886219e-03, -3.21642844e-02,  4.08956682e-03,\n",
      "        6.25140388e-02,  9.67738209e-04,  7.90526160e-03,  1.72965796e-03,\n",
      "        5.90766030e-03,  1.48980517e-04,  1.62838034e-02, -9.84048172e-04,\n",
      "       -7.15918713e-04, -1.81295428e-04, -1.89275553e-04, -6.98170930e-03,\n",
      "        1.43126352e-03, -4.49307919e-05, -6.25580201e-04, -2.68106303e-03,\n",
      "        3.29592905e-03, -2.72225214e-04, -4.81564678e-03,  1.30068318e-02,\n",
      "        2.19933278e-02,  9.50438313e-03,  2.13763356e-03,  3.48123135e-03,\n",
      "        1.98078847e-03,  3.67890663e-03,  9.45348723e-04,  3.85162006e-03,\n",
      "        1.67917662e-03, -1.87606883e-03, -1.08906011e-03,  2.76546370e-02,\n",
      "        1.42611145e-03, -1.51476933e-02,  1.11595232e-02,  9.69341599e-03,\n",
      "        1.74427581e-02,  5.77029870e-04, -1.82240160e-04,  1.78363943e-02,\n",
      "        4.91491218e-03,  6.95337745e-03,  7.98313117e-04,  1.67278673e-03,\n",
      "       -1.70474203e-03, -2.00579031e-03,  1.46199058e-02, -6.74804754e-04,\n",
      "        3.26203312e-05]), array([-4.88664708e-02, -3.87472686e-03, -2.59326271e-02, -9.82242474e-04,\n",
      "       -1.97730355e-02,  4.55620361e-03, -6.69295353e-04, -2.30659473e-02,\n",
      "        2.99598466e-02, -2.15886219e-03,  3.21642844e-02, -4.08956682e-03,\n",
      "       -6.25140388e-02, -9.67738209e-04, -7.90526160e-03, -1.72965796e-03,\n",
      "       -5.90766030e-03, -1.48980517e-04, -1.62838034e-02,  9.84048172e-04,\n",
      "        7.15918713e-04,  1.81295428e-04,  1.89275553e-04,  6.98170930e-03,\n",
      "       -1.43126352e-03,  4.49307919e-05,  6.25580201e-04,  2.68106303e-03,\n",
      "       -3.29592905e-03,  2.72225214e-04,  4.81564678e-03, -1.30068318e-02,\n",
      "       -2.19933278e-02, -9.50438313e-03, -2.13763356e-03, -3.48123135e-03,\n",
      "       -1.98078847e-03, -3.67890663e-03, -9.45348723e-04, -3.85162006e-03,\n",
      "       -1.67917662e-03,  1.87606883e-03,  1.08906011e-03, -2.76546370e-02,\n",
      "       -1.42611145e-03,  1.51476933e-02, -1.11595232e-02, -9.69341599e-03,\n",
      "       -1.74427581e-02, -5.77029870e-04,  1.82240160e-04, -1.78363943e-02,\n",
      "       -4.91491218e-03, -6.95337745e-03, -7.98313117e-04, -1.67278673e-03,\n",
      "        1.70474203e-03,  2.00579031e-03, -1.46199058e-02,  6.74804754e-04,\n",
      "       -3.26203312e-05])]\n"
     ]
    }
   ],
   "source": [
    "print('building an explanation')\n",
    "exp = explainer.explain(inst)\n",
    "print(exp.exp)"
   ]
  },
  {
   "cell_type": "code",
   "execution_count": 18,
   "id": "distributed-flower",
   "metadata": {},
   "outputs": [
    {
     "data": {
      "text/html": [
       "\n",
       "        <style>\n",
       "        .vega-bind {\n",
       "          position: absolute;\n",
       "          left: 0px;\n",
       "          top: 0px;\n",
       "          background-color:#eee;\n",
       "          padding:10px;\n",
       "          font-size:10px;\n",
       "        }\n",
       "        .chart-wrapper{\n",
       "          padding-top: 70px;\n",
       "        }\n",
       "\n",
       "        </style>\n",
       "        "
      ],
      "text/plain": [
       "<IPython.core.display.HTML object>"
      ]
     },
     "metadata": {},
     "output_type": "display_data"
    },
    {
     "data": {
      "text/html": [
       "\n",
       "<div id=\"altair-viz-f7d4e7a51d704a739c989b83bcac9751\"></div>\n",
       "<script type=\"text/javascript\">\n",
       "  (function(spec, embedOpt){\n",
       "    let outputDiv = document.currentScript.previousElementSibling;\n",
       "    if (outputDiv.id !== \"altair-viz-f7d4e7a51d704a739c989b83bcac9751\") {\n",
       "      outputDiv = document.getElementById(\"altair-viz-f7d4e7a51d704a739c989b83bcac9751\");\n",
       "    }\n",
       "    const paths = {\n",
       "      \"vega\": \"https://cdn.jsdelivr.net/npm//vega@5?noext\",\n",
       "      \"vega-lib\": \"https://cdn.jsdelivr.net/npm//vega-lib?noext\",\n",
       "      \"vega-lite\": \"https://cdn.jsdelivr.net/npm//vega-lite@4.8.1?noext\",\n",
       "      \"vega-embed\": \"https://cdn.jsdelivr.net/npm//vega-embed@6?noext\",\n",
       "    };\n",
       "\n",
       "    function loadScript(lib) {\n",
       "      return new Promise(function(resolve, reject) {\n",
       "        var s = document.createElement('script');\n",
       "        s.src = paths[lib];\n",
       "        s.async = true;\n",
       "        s.onload = () => resolve(paths[lib]);\n",
       "        s.onerror = () => reject(`Error loading script: ${paths[lib]}`);\n",
       "        document.getElementsByTagName(\"head\")[0].appendChild(s);\n",
       "      });\n",
       "    }\n",
       "\n",
       "    function showError(err) {\n",
       "      outputDiv.innerHTML = `<div class=\"error\" style=\"color:red;\">${err}</div>`;\n",
       "      throw err;\n",
       "    }\n",
       "\n",
       "    function displayChart(vegaEmbed) {\n",
       "      vegaEmbed(outputDiv, spec, embedOpt)\n",
       "        .catch(err => showError(`Javascript Error: ${err.message}<br>This usually means there's a typo in your chart specification. See the javascript console for the full traceback.`));\n",
       "    }\n",
       "\n",
       "    if(typeof define === \"function\" && define.amd) {\n",
       "      requirejs.config({paths});\n",
       "      require([\"vega-embed\"], displayChart, err => showError(`Error loading script: ${err.message}`));\n",
       "    } else if (typeof vegaEmbed === \"function\") {\n",
       "      displayChart(vegaEmbed);\n",
       "    } else {\n",
       "      loadScript(\"vega\")\n",
       "        .then(() => loadScript(\"vega-lite\"))\n",
       "        .then(() => loadScript(\"vega-embed\"))\n",
       "        .catch(showError)\n",
       "        .then(() => displayChart(vegaEmbed));\n",
       "    }\n",
       "  })({\"config\": {\"view\": {\"continuousWidth\": 400, \"continuousHeight\": 300}, \"axis\": {\"labelFontSize\": 10, \"labelLimit\": 225.0}}, \"vconcat\": [{\"layer\": [{\"data\": {\"name\": \"data-30f3240959b2d9dc877cd3511071cbdd\"}, \"mark\": {\"type\": \"rule\", \"strokeWidth\": 3}, \"encoding\": {\"color\": {\"type\": \"quantitative\", \"field\": \"xValue\", \"legend\": null, \"scale\": {\"domain\": [-0.06251403882692182, 0.06251403882692182], \"domainMid\": 0, \"scheme\": \"redyellowblue\"}}, \"x\": {\"type\": \"quantitative\", \"axis\": {\"orient\": \"top\", \"titleFontSize\": 10}, \"field\": \"xValue\", \"title\": \"Select a cutoff range for Feature Importance values \"}}}, {\"data\": {\"name\": \"data-c7bc3ae69e1253e8223f70a11d04b99d\"}, \"mark\": {\"type\": \"rect\", \"color\": \"black\", \"height\": 20, \"opacity\": 0.4, \"tooltip\": true}, \"encoding\": {\"x\": {\"type\": \"quantitative\", \"field\": \"x_min\"}, \"x2\": {\"field\": \"x_max\"}, \"y\": {\"type\": \"quantitative\", \"axis\": null, \"field\": \"y\"}}, \"selection\": {\"Cutter\": {\"type\": \"single\", \"fields\": [\"cutoff\"], \"bind\": {\"input\": \"range\", \"max\": 0.06251403882692182, \"min\": 0, \"name\": \"Importance cutoff value (\\u00b1) \", \"step\": 0.0012502807765384363}, \"init\": {\"cutoff\": 0.0}}}, \"transform\": [{\"calculate\": \"(-Cutter.cutoff)\", \"as\": \"x_min\"}, {\"calculate\": \"Cutter.cutoff\", \"as\": \"x_max\"}]}], \"height\": 20}, {\"layer\": [{\"data\": {\"name\": \"data-b2155f4b4ed482476c9a0aede197a7d8\"}, \"mark\": \"bar\", \"encoding\": {\"color\": {\"type\": \"quantitative\", \"field\": \"value\", \"legend\": null, \"scale\": {\"domain\": [-0.06251403882692182, 0.06251403882692182], \"domainMid\": 0, \"scheme\": \"blueorange\"}}, \"tooltip\": [{\"type\": \"nominal\", \"field\": \"name\", \"title\": \"Feature\"}, {\"type\": \"quantitative\", \"field\": \"value\", \"title\": \"Importance\"}], \"x\": {\"type\": \"quantitative\", \"field\": \"value\", \"title\": null}, \"y\": {\"type\": \"nominal\", \"field\": \"name\", \"sort\": {\"field\": \"value\", \"op\": \"mean\", \"order\": \"descending\"}, \"title\": null}}, \"selection\": {\"Cutter\": {\"type\": \"single\", \"fields\": [\"cutoff\"], \"bind\": {\"input\": \"range\", \"max\": 0.06251403882692182, \"min\": 0, \"name\": \"Importance cutoff value (\\u00b1) \", \"step\": 0.0012502807765384363}, \"init\": {\"cutoff\": 0.0}}}, \"transform\": [{\"filter\": \"true || datum.value > -1 & datum.value < 1\"}, {\"filter\": \"((datum.value > Cutter.cutoff) || (datum.value < (-Cutter.cutoff)))\"}]}, {\"data\": {\"name\": \"data-9c00aa9dc2b1c1a0b4bf9b34ead12925\"}, \"mark\": \"rule\", \"encoding\": {\"x\": {\"type\": \"quantitative\", \"field\": \"x\"}}}]}], \"padding\": 10, \"$schema\": \"https://vega.github.io/schema/vega-lite/v4.8.1.json\", \"datasets\": {\"data-30f3240959b2d9dc877cd3511071cbdd\": [{\"xValue\": -0.06251403882692182}, {\"xValue\": -0.0618888984386526}, {\"xValue\": -0.06126375805038338}, {\"xValue\": -0.06063861766211416}, {\"xValue\": -0.06001347727384494}, {\"xValue\": -0.059388336885575724}, {\"xValue\": -0.058763196497306505}, {\"xValue\": -0.05813805610903729}, {\"xValue\": -0.05751291572076807}, {\"xValue\": -0.05688777533249885}, {\"xValue\": -0.05626263494422963}, {\"xValue\": -0.05563749455596041}, {\"xValue\": -0.055012354167691194}, {\"xValue\": -0.054387213779421975}, {\"xValue\": -0.053762073391152757}, {\"xValue\": -0.05313693300288354}, {\"xValue\": -0.05251179261461432}, {\"xValue\": -0.0518866522263451}, {\"xValue\": -0.05126151183807588}, {\"xValue\": -0.050636371449806664}, {\"xValue\": -0.050011231061537445}, {\"xValue\": -0.049386090673268226}, {\"xValue\": -0.04876095028499901}, {\"xValue\": -0.04813580989672979}, {\"xValue\": -0.04751066950846057}, {\"xValue\": -0.04688552912019135}, {\"xValue\": -0.046260388731922134}, {\"xValue\": -0.045635248343652915}, {\"xValue\": -0.045010107955383696}, {\"xValue\": -0.04438496756711448}, {\"xValue\": -0.04375982717884526}, {\"xValue\": -0.04313468679057604}, {\"xValue\": -0.04250954640230682}, {\"xValue\": -0.0418844060140376}, {\"xValue\": -0.041259265625768385}, {\"xValue\": -0.040634125237499166}, {\"xValue\": -0.04000898484922995}, {\"xValue\": -0.03938384446096073}, {\"xValue\": -0.03875870407269151}, {\"xValue\": -0.03813356368442229}, {\"xValue\": -0.03750842329615307}, {\"xValue\": -0.036883282907883855}, {\"xValue\": -0.036258142519614636}, {\"xValue\": -0.03563300213134542}, {\"xValue\": -0.0350078617430762}, {\"xValue\": -0.03438272135480698}, {\"xValue\": -0.03375758096653776}, {\"xValue\": -0.03313244057826854}, {\"xValue\": -0.032507300189999325}, {\"xValue\": -0.031882159801730106}, {\"xValue\": -0.03125701941346089}, {\"xValue\": -0.03063187902519167}, {\"xValue\": -0.03000673863692245}, {\"xValue\": -0.029381598248653232}, {\"xValue\": -0.028756457860384013}, {\"xValue\": -0.028131317472114795}, {\"xValue\": -0.027506177083845576}, {\"xValue\": -0.026881036695576357}, {\"xValue\": -0.02625589630730714}, {\"xValue\": -0.02563075591903792}, {\"xValue\": -0.0250056155307687}, {\"xValue\": -0.024380475142499483}, {\"xValue\": -0.023755334754230265}, {\"xValue\": -0.023130194365961046}, {\"xValue\": -0.022505053977691827}, {\"xValue\": -0.02187991358942261}, {\"xValue\": -0.02125477320115339}, {\"xValue\": -0.02062963281288417}, {\"xValue\": -0.020004492424614953}, {\"xValue\": -0.019379352036345734}, {\"xValue\": -0.018754211648076516}, {\"xValue\": -0.018129071259807297}, {\"xValue\": -0.01750393087153808}, {\"xValue\": -0.01687879048326886}, {\"xValue\": -0.01625365009499964}, {\"xValue\": -0.015628509706730423}, {\"xValue\": -0.015003369318461204}, {\"xValue\": -0.014378228930191986}, {\"xValue\": -0.013753088541922767}, {\"xValue\": -0.013127948153653549}, {\"xValue\": -0.01250280776538433}, {\"xValue\": -0.011877667377115111}, {\"xValue\": -0.011252526988845893}, {\"xValue\": -0.010627386600576674}, {\"xValue\": -0.010002246212307456}, {\"xValue\": -0.009377105824038237}, {\"xValue\": -0.008751965435769019}, {\"xValue\": -0.0081268250474998}, {\"xValue\": -0.007501684659230581}, {\"xValue\": -0.006876544270961363}, {\"xValue\": -0.006251403882692144}, {\"xValue\": -0.005626263494422926}, {\"xValue\": -0.005001123106153707}, {\"xValue\": -0.0043759827178844884}, {\"xValue\": -0.00375084232961527}, {\"xValue\": -0.0031257019413460513}, {\"xValue\": -0.0025005615530768327}, {\"xValue\": -0.0018754211648076141}, {\"xValue\": -0.0012502807765383955}, {\"xValue\": -0.000625140388269177}, {\"xValue\": 4.163336342344337e-17}, {\"xValue\": 0.0006251403882692602}, {\"xValue\": 0.0012502807765384788}, {\"xValue\": 0.0018754211648076974}, {\"xValue\": 0.002500561553076916}, {\"xValue\": 0.0031257019413461345}, {\"xValue\": 0.003750842329615353}, {\"xValue\": 0.004375982717884572}, {\"xValue\": 0.00500112310615379}, {\"xValue\": 0.005626263494423009}, {\"xValue\": 0.0062514038826922275}, {\"xValue\": 0.006876544270961446}, {\"xValue\": 0.007501684659230665}, {\"xValue\": 0.008126825047499883}, {\"xValue\": 0.008751965435769102}, {\"xValue\": 0.00937710582403832}, {\"xValue\": 0.010002246212307539}, {\"xValue\": 0.010627386600576758}, {\"xValue\": 0.011252526988845976}, {\"xValue\": 0.011877667377115195}, {\"xValue\": 0.012502807765384413}, {\"xValue\": 0.013127948153653632}, {\"xValue\": 0.01375308854192285}, {\"xValue\": 0.014378228930192069}, {\"xValue\": 0.015003369318461288}, {\"xValue\": 0.015628509706730506}, {\"xValue\": 0.016253650094999725}, {\"xValue\": 0.016878790483268943}, {\"xValue\": 0.017503930871538162}, {\"xValue\": 0.01812907125980738}, {\"xValue\": 0.0187542116480766}, {\"xValue\": 0.019379352036345818}, {\"xValue\": 0.020004492424615036}, {\"xValue\": 0.020629632812884255}, {\"xValue\": 0.021254773201153473}, {\"xValue\": 0.021879913589422692}, {\"xValue\": 0.02250505397769191}, {\"xValue\": 0.02313019436596113}, {\"xValue\": 0.023755334754230348}, {\"xValue\": 0.024380475142499566}, {\"xValue\": 0.025005615530768785}, {\"xValue\": 0.025630755919038004}, {\"xValue\": 0.026255896307307222}, {\"xValue\": 0.02688103669557644}, {\"xValue\": 0.02750617708384566}, {\"xValue\": 0.028131317472114878}, {\"xValue\": 0.028756457860384096}, {\"xValue\": 0.029381598248653315}, {\"xValue\": 0.030006738636922534}, {\"xValue\": 0.030631879025191752}, {\"xValue\": 0.03125701941346097}, {\"xValue\": 0.03188215980173019}, {\"xValue\": 0.03250730018999941}, {\"xValue\": 0.03313244057826863}, {\"xValue\": 0.033757580966537845}, {\"xValue\": 0.034382721354807064}, {\"xValue\": 0.03500786174307628}, {\"xValue\": 0.0356330021313455}, {\"xValue\": 0.03625814251961472}, {\"xValue\": 0.03688328290788394}, {\"xValue\": 0.03750842329615316}, {\"xValue\": 0.038133563684422375}, {\"xValue\": 0.038758704072691594}, {\"xValue\": 0.03938384446096081}, {\"xValue\": 0.04000898484923003}, {\"xValue\": 0.04063412523749925}, {\"xValue\": 0.04125926562576847}, {\"xValue\": 0.04188440601403769}, {\"xValue\": 0.042509546402306905}, {\"xValue\": 0.043134686790576124}, {\"xValue\": 0.04375982717884534}, {\"xValue\": 0.04438496756711456}, {\"xValue\": 0.04501010795538378}, {\"xValue\": 0.045635248343653}, {\"xValue\": 0.04626038873192222}, {\"xValue\": 0.046885529120191435}, {\"xValue\": 0.047510669508460654}, {\"xValue\": 0.04813580989672987}, {\"xValue\": 0.04876095028499909}, {\"xValue\": 0.04938609067326831}, {\"xValue\": 0.05001123106153753}, {\"xValue\": 0.05063637144980675}, {\"xValue\": 0.051261511838075965}, {\"xValue\": 0.051886652226345184}, {\"xValue\": 0.0525117926146144}, {\"xValue\": 0.05313693300288362}, {\"xValue\": 0.05376207339115284}, {\"xValue\": 0.05438721377942206}, {\"xValue\": 0.05501235416769128}, {\"xValue\": 0.055637494555960496}, {\"xValue\": 0.056262634944229714}, {\"xValue\": 0.05688777533249893}, {\"xValue\": 0.05751291572076815}, {\"xValue\": 0.05813805610903737}, {\"xValue\": 0.05876319649730659}, {\"xValue\": 0.05938833688557581}, {\"xValue\": 0.060013477273845026}, {\"xValue\": 0.060638617662114244}, {\"xValue\": 0.06126375805038346}, {\"xValue\": 0.06188889843865268}], \"data-c7bc3ae69e1253e8223f70a11d04b99d\": [{\"y\": 0, \"x\": -0.5, \"x2\": 0.5}], \"data-b2155f4b4ed482476c9a0aede197a7d8\": [{\"name\": \"duration_in_month\", \"value\": 0.04886647078040358}, {\"name\": \"credit_amount\", \"value\": 0.003874726856461831}, {\"name\": \"installment_as_income_perc\", \"value\": 0.025932627140780345}, {\"name\": \"present_res_since\", \"value\": 0.0009822424737227797}, {\"name\": \"age\", \"value\": 0.019773035499122016}, {\"name\": \"credits_this_bank\", \"value\": -0.00455620361139643}, {\"name\": \"people_under_maintenance\", \"value\": 0.0006692953526383462}, {\"name\": \"account_check_status=0 <= ... < 200 DM\", \"value\": 0.02306594726021734}, {\"name\": \"account_check_status=< 0 DM\", \"value\": -0.029959846629296256}, {\"name\": \"account_check_status=>= 200 DM / salary assignments for at least 1 year\", \"value\": 0.0021588621858378418}, {\"name\": \"account_check_status=no checking account\", \"value\": -0.032164284425735656}, {\"name\": \"credit_history=all credits at this bank paid back duly\", \"value\": 0.004089566821459752}, {\"name\": \"credit_history=critical account/ other credits existing (not at this bank)\", \"value\": 0.06251403882692182}, {\"name\": \"credit_history=delay in paying off in the past\", \"value\": 0.0009677382086591449}, {\"name\": \"credit_history=existing credits paid back duly till now\", \"value\": 0.007905261600801973}, {\"name\": \"credit_history=no credits taken/ all credits paid back duly\", \"value\": 0.00172965796443243}, {\"name\": \"purpose=(vacation - does not exist?)\", \"value\": 0.005907660303775592}, {\"name\": \"purpose=business\", \"value\": 0.00014898051721088764}, {\"name\": \"purpose=car (new)\", \"value\": 0.01628380344385213}, {\"name\": \"purpose=car (used)\", \"value\": -0.0009840481716187099}, {\"name\": \"purpose=domestic appliances\", \"value\": -0.0007159187129418906}, {\"name\": \"purpose=education\", \"value\": -0.00018129542819978687}, {\"name\": \"purpose=furniture/equipment\", \"value\": -0.00018927555346079085}, {\"name\": \"purpose=radio/television\", \"value\": -0.006981709303052777}, {\"name\": \"purpose=repairs\", \"value\": 0.0014312635222939521}, {\"name\": \"purpose=retraining\", \"value\": -4.493079189900231e-05}, {\"name\": \"savings=.. >= 1000 DM \", \"value\": -0.0006255802011756327}, {\"name\": \"savings=... < 100 DM\", \"value\": -0.0026810630265409717}, {\"name\": \"savings=100 <= ... < 500 DM\", \"value\": 0.003295929052663818}, {\"name\": \"savings=500 <= ... < 1000 DM \", \"value\": -0.000272225213720843}, {\"name\": \"savings=unknown/ no savings account\", \"value\": -0.0048156467766686615}, {\"name\": \"present_emp_since=.. >= 7 years\", \"value\": 0.013006831833536315}, {\"name\": \"present_emp_since=... < 1 year \", \"value\": 0.02199332784591027}, {\"name\": \"present_emp_since=1 <= ... < 4 years\", \"value\": 0.009504383130390995}, {\"name\": \"present_emp_since=4 <= ... < 7 years\", \"value\": 0.0021376335605140014}, {\"name\": \"present_emp_since=unemployed\", \"value\": 0.003481231345478746}, {\"name\": \"personal_status_sex=female : divorced/separated/married\", \"value\": 0.001980788470730072}, {\"name\": \"personal_status_sex=male : divorced/separated\", \"value\": 0.0036789066270687203}, {\"name\": \"personal_status_sex=male : married/widowed\", \"value\": 0.0009453487226778852}, {\"name\": \"personal_status_sex=male : single\", \"value\": 0.003851620062852025}, {\"name\": \"other_debtors=co-applicant\", \"value\": 0.001679176617086112}, {\"name\": \"other_debtors=guarantor\", \"value\": -0.0018760688273264958}, {\"name\": \"other_debtors=none\", \"value\": -0.0010890601064793362}, {\"name\": \"property=if not A121 : building society savings agreement/ life insurance\", \"value\": 0.02765463703220517}, {\"name\": \"property=if not A121/A122 : car or other, not in attribute 6\", \"value\": 0.0014261114543617404}, {\"name\": \"property=real estate\", \"value\": -0.01514769325279542}, {\"name\": \"property=unknown / no property\", \"value\": 0.011159523197399681}, {\"name\": \"other_installment_plans=bank\", \"value\": 0.009693415993595812}, {\"name\": \"other_installment_plans=none\", \"value\": 0.017442758149766095}, {\"name\": \"other_installment_plans=stores\", \"value\": 0.0005770298701573179}, {\"name\": \"housing=for free\", \"value\": -0.00018224015963070177}, {\"name\": \"housing=own\", \"value\": 0.017836394252186742}, {\"name\": \"housing=rent\", \"value\": 0.00491491217995444}, {\"name\": \"job=management/ self-employed/ highly qualified employee/ officer\", \"value\": 0.006953377452999041}, {\"name\": \"job=skilled employee / official\", \"value\": 0.0007983131168006281}, {\"name\": \"job=unemployed/ unskilled - non-resident\", \"value\": 0.0016727867317157493}, {\"name\": \"job=unskilled - resident\", \"value\": -0.001704742032486358}, {\"name\": \"telephone=none\", \"value\": -0.0020057903075457787}, {\"name\": \"telephone=yes, registered under the customers name \", \"value\": 0.014619905782222688}, {\"name\": \"foreign_worker=no\", \"value\": -0.0006748047543977267}, {\"name\": \"foreign_worker=yes\", \"value\": 3.262033119816191e-05}], \"data-9c00aa9dc2b1c1a0b4bf9b34ead12925\": [{\"x\": 0}]}}, {\"mode\": \"vega-lite\"});\n",
       "</script>"
      ],
      "text/plain": [
       "alt.VConcatChart(...)"
      ]
     },
     "metadata": {},
     "output_type": "display_data"
    }
   ],
   "source": [
    "exp.plot_features_importance()"
   ]
  },
  {
   "cell_type": "markdown",
   "id": "dominant-malpractice",
   "metadata": {},
   "source": [
    "### LORE explainer"
   ]
  },
  {
   "cell_type": "code",
   "execution_count": null,
   "id": "written-trail",
   "metadata": {},
   "outputs": [],
   "source": [
    "explainer = LoreTabularExplainer(bbox)\n",
    "config = {'neigh_type':'rndgen', 'size':1000, 'ocr':0.1, 'ngen':10}\n",
    "explainer.fit(df, class_field, config)\n",
    "exp = explainer.explain(inst)\n",
    "print(exp)"
   ]
  },
  {
   "cell_type": "markdown",
   "id": "august-conviction",
   "metadata": {},
   "source": [
    "### LIME explainer"
   ]
  },
  {
   "cell_type": "code",
   "execution_count": null,
   "id": "iraqi-mediterranean",
   "metadata": {},
   "outputs": [],
   "source": [
    "limeExplainer = LimeXAITabularExplainer(bbox)\n",
    "config = {'feature_selection': 'lasso_path'}\n",
    "limeExplainer.fit(df, class_field, config)\n",
    "lime_exp = limeExplainer.explain(inst)\n",
    "print(lime_exp.as_list())"
   ]
  },
  {
   "cell_type": "code",
   "execution_count": null,
   "id": "crazy-worst",
   "metadata": {},
   "outputs": [],
   "source": [
    "limeExplainer.plot_lime_values(lime_exp.as_list(), 5, 10)"
   ]
  },
  {
   "cell_type": "code",
   "execution_count": null,
   "id": "average-league",
   "metadata": {},
   "outputs": [],
   "source": []
  }
 ],
 "metadata": {
  "kernelspec": {
   "display_name": "Python 3 (ipykernel)",
   "language": "python",
   "name": "python3"
  },
  "language_info": {
   "codemirror_mode": {
    "name": "ipython",
    "version": 3
   },
   "file_extension": ".py",
   "mimetype": "text/x-python",
   "name": "python",
   "nbconvert_exporter": "python",
   "pygments_lexer": "ipython3",
   "version": "3.7.7"
  }
 },
 "nbformat": 4,
 "nbformat_minor": 5
}
