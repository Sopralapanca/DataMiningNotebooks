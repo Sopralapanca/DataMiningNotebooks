{
 "cells": [
  {
   "cell_type": "markdown",
   "metadata": {},
   "source": [
    "# Generalized Sequential Pattern mining"
   ]
  },
  {
   "cell_type": "markdown",
   "metadata": {},
   "source": [
    "#### There is not a referenced library for GSP. The implementation used in this notebook does not support time constraints, such as min gap and max span."
   ]
  },
  {
   "cell_type": "code",
   "execution_count": 1,
   "metadata": {},
   "outputs": [],
   "source": [
    "from gsp import *"
   ]
  },
  {
   "cell_type": "markdown",
   "metadata": {},
   "source": [
    "#### Let's use a simple dataset"
   ]
  },
  {
   "cell_type": "code",
   "execution_count": 3,
   "metadata": {},
   "outputs": [],
   "source": [
    "# we can consider the first element at timestep 0, the second at timestep 1 and so on\n",
    "dataset =  [\n",
    "    [[\"a\"], [\"a\", \"b\", \"c\"], [\"a\", \"c\"], [\"c\"]],\n",
    "    [[\"a\"], [\"c\"], [\"b\", \"c\"]],\n",
    "    [[\"a\", \"b\"], [\"d\"], [\"c\"], [\"b\"], [\"c\"]],\n",
    "    [[\"a\"], [\"c\"], [\"b\", \"c\"]]\n",
    "]\n"
   ]
  },
  {
   "cell_type": "code",
   "execution_count": 4,
   "metadata": {},
   "outputs": [],
   "source": [
    "#signature requires: the dataset, the min support and the boolean verbose\n",
    "result_set = apriori(dataset, 2, verbose=False)"
   ]
  },
  {
   "cell_type": "code",
   "execution_count": 5,
   "metadata": {},
   "outputs": [
    {
     "data": {
      "text/plain": "[([['a']], 4),\n ([['b']], 4),\n ([['c']], 4),\n ([['a', 'b']], 2),\n ([['b', 'c']], 3),\n ([['a'], ['b']], 4),\n ([['a'], ['c']], 4),\n ([['b'], ['c']], 2),\n ([['c'], ['b']], 3),\n ([['c'], ['c']], 4),\n ([['a'], ['b'], ['c']], 2),\n ([['a'], ['b', 'c']], 3),\n ([['a'], ['c'], ['b']], 3),\n ([['a'], ['c'], ['c']], 4),\n ([['a', 'b'], ['c']], 2),\n ([['b'], ['c'], ['c']], 2),\n ([['c'], ['b', 'c']], 2),\n ([['a'], ['c'], ['b', 'c']], 2),\n ([['a', 'b'], ['c'], ['c']], 2)]"
     },
     "execution_count": 5,
     "metadata": {},
     "output_type": "execute_result"
    }
   ],
   "source": [
    "result_set"
   ]
  },
  {
   "cell_type": "code",
   "execution_count": 6,
   "metadata": {},
   "outputs": [
    {
     "name": "stdout",
     "output_type": "stream",
     "text": [
      "Candidates generated, lvl 2: [[['a', 'b']], [['a', 'c']], [['b', 'c']], [['a'], ['a']], [['a'], ['b']], [['a'], ['c']], [['b'], ['a']], [['b'], ['b']], [['b'], ['c']], [['c'], ['a']], [['c'], ['b']], [['c'], ['c']]]\n",
      "Candidates pruned, lvl 2: [[['a', 'b']], [['a', 'c']], [['b', 'c']], [['a'], ['a']], [['a'], ['b']], [['a'], ['c']], [['b'], ['a']], [['b'], ['b']], [['b'], ['c']], [['c'], ['a']], [['c'], ['b']], [['c'], ['c']]]\n",
      "Result, lvl 2: [([['b', 'c']], 3), ([['a'], ['b']], 4), ([['a'], ['c']], 4), ([['c'], ['b']], 3), ([['c'], ['c']], 4)]\n",
      "Candidates generated, lvl 3: [[['a'], ['b', 'c']], [['a'], ['c'], ['b']], [['a'], ['c'], ['c']], [['b', 'c'], ['b']], [['b', 'c'], ['c']], [['c'], ['b', 'c']], [['c'], ['c'], ['b']], [['c'], ['c'], ['c']]]\n",
      "Candidates pruned, lvl 3: [[['a'], ['b', 'c']], [['a'], ['c'], ['b']], [['a'], ['c'], ['c']], [['c'], ['b', 'c']], [['c'], ['c'], ['b']], [['c'], ['c'], ['c']]]\n",
      "Result, lvl 3: [([['a'], ['b', 'c']], 3), ([['a'], ['c'], ['b']], 3), ([['a'], ['c'], ['c']], 4)]\n",
      "Candidates generated, lvl 4: []\n",
      "Candidates pruned, lvl 4: []\n",
      "Result, lvl 4: []\n"
     ]
    }
   ],
   "source": [
    "#if we set verbose = True, then we can see the 2 steps: \n",
    "#candidate generation and then candidate pruning\n",
    "res2 = apriori(dataset, 3, verbose=True)"
   ]
  },
  {
   "cell_type": "code",
   "execution_count": 7,
   "metadata": {},
   "outputs": [
    {
     "data": {
      "text/plain": "[([['a']], 4),\n ([['b']], 4),\n ([['c']], 4),\n ([['b', 'c']], 3),\n ([['a'], ['b']], 4),\n ([['a'], ['c']], 4),\n ([['c'], ['b']], 3),\n ([['c'], ['c']], 4),\n ([['a'], ['b', 'c']], 3),\n ([['a'], ['c'], ['b']], 3),\n ([['a'], ['c'], ['c']], 4)]"
     },
     "execution_count": 7,
     "metadata": {},
     "output_type": "execute_result"
    }
   ],
   "source": [
    "res2"
   ]
  },
  {
   "cell_type": "markdown",
   "metadata": {},
   "source": [
    "## Example with a bigger dataset"
   ]
  },
  {
   "cell_type": "code",
   "execution_count": 9,
   "metadata": {},
   "outputs": [
    {
     "name": "stdout",
     "output_type": "stream",
     "text": [
      "Number of input sequences:  1728\n",
      "Total number of events:  8638\n"
     ]
    }
   ],
   "source": [
    "# datatset of point of interest in venice\n",
    "with open('./datasets/sequences_of_poits.text') as f:\n",
    "    content = f.readlines()\n",
    "content = [ [ [event] for event in x.strip().split()[:-1] ] for x in content]\n",
    "\n",
    "print(\"Number of input sequences: \", len(content))\n",
    "print(\"Total number of events: \", sum([len(seq) for seq in content])) "
   ]
  },
  {
   "cell_type": "code",
   "execution_count": 10,
   "metadata": {},
   "outputs": [
    {
     "data": {
      "text/plain": "[[\"Torre_dell'orologio\"],\n ['Museo_Correr'],\n ['Chiesa_Santa_Maria_della_Fava'],\n ['Fontego_dei_Tedeschi'],\n ['Chiesa_di_San_Barnaba'],\n [\"Gallerie_dell'Accademia\"],\n ['Palazzo_Santa_Maria_del_Giglio'],\n ['Campo_San_Zaccaria']]"
     },
     "execution_count": 10,
     "metadata": {},
     "output_type": "execute_result"
    }
   ],
   "source": [
    "content[0]"
   ]
  },
  {
   "cell_type": "code",
   "execution_count": 11,
   "metadata": {},
   "outputs": [
    {
     "data": {
      "text/plain": "[['Chiesa_di_San_Trovaso'], ['Museo_Correr'], ['Campo_San_Benedetto']]"
     },
     "execution_count": 11,
     "metadata": {},
     "output_type": "execute_result"
    }
   ],
   "source": [
    "content[13]"
   ]
  },
  {
   "cell_type": "code",
   "execution_count": 12,
   "metadata": {},
   "outputs": [
    {
     "name": "stdout",
     "output_type": "stream",
     "text": [
      "85\n"
     ]
    }
   ],
   "source": [
    "res3 = apriori(content, 60, verbose=False)\n",
    "print(len(res3))"
   ]
  },
  {
   "cell_type": "code",
   "execution_count": 13,
   "metadata": {},
   "outputs": [
    {
     "name": "stdout",
     "output_type": "stream",
     "text": [
      "[['Fontego_dei_Tedeschi'], ['Palazzo_Ducale'], ['Palazzo_Ducale']]\n",
      "60\n",
      "[['Fontego_dei_Tedeschi'], [\"Torre_dell'orologio\"], ['Palazzo_Ducale']]\n",
      "60\n",
      "[['Museo_Correr'], ['Palazzo_Ducale'], ['Palazzo_Ducale']]\n",
      "62\n",
      "[['Palace_Gardens'], ['Palazzo_Ducale'], ['Palazzo_Ducale']]\n",
      "61\n",
      "[['Palazzo_Ducale'], ['Fontego_dei_Tedeschi'], ['Palazzo_Ducale']]\n",
      "65\n",
      "[['Palazzo_Ducale'], ['Museo_Correr'], ['Palazzo_Ducale']]\n",
      "80\n",
      "[['Palazzo_Ducale'], ['Palace_Gardens'], ['Palazzo_Ducale']]\n",
      "80\n",
      "[['Palazzo_Ducale'], ['Palazzo_Ducale'], ['Fontego_dei_Tedeschi']]\n",
      "60\n",
      "[['Palazzo_Ducale'], ['Palazzo_Ducale'], ['Palace_Gardens']]\n",
      "63\n",
      "[['Palazzo_Ducale'], ['Palazzo_Ducale'], ['Palazzo_Ducale']]\n",
      "109\n",
      "[['Palazzo_Ducale'], ['Palazzo_Ducale'], [\"Torre_dell'orologio\"]]\n",
      "80\n",
      "[['Palazzo_Ducale'], [\"Torre_dell'orologio\"], ['Palazzo_Ducale']]\n",
      "106\n",
      "[[\"Torre_dell'orologio\"], ['Palazzo_Ducale'], ['Palazzo_Ducale']]\n",
      "83\n",
      "[[\"Torre_dell'orologio\"], ['Palazzo_Ducale'], [\"Torre_dell'orologio\"]]\n",
      "64\n"
     ]
    }
   ],
   "source": [
    "for r in res3:\n",
    "    if len(r[0]) > 2:\n",
    "        print(r[0])\n",
    "        print(r[1])"
   ]
  },
  {
   "cell_type": "code",
   "execution_count": null,
   "metadata": {},
   "outputs": [],
   "source": []
  }
 ],
 "metadata": {
  "kernelspec": {
   "display_name": "Python 3 (ipykernel)",
   "language": "python",
   "name": "python3"
  },
  "language_info": {
   "codemirror_mode": {
    "name": "ipython",
    "version": 3
   },
   "file_extension": ".py",
   "mimetype": "text/x-python",
   "name": "python",
   "nbconvert_exporter": "python",
   "pygments_lexer": "ipython3",
   "version": "3.7.7"
  }
 },
 "nbformat": 4,
 "nbformat_minor": 4
}
